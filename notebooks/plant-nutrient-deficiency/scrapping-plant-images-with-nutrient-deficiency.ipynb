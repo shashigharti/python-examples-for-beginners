{
 "cells": [
  {
   "cell_type": "markdown",
   "metadata": {},
   "source": [
    "<h1> Image scrapping from google </h1>\n",
    "\n",
    "Images Searched: Tomato leaves with nutrient deficiency\n",
    "\n",
    "1. Search the images in google \"Tomato leaves with nutrient deficiency\"\n",
    "2. Run the codes below in the console window. It will create a new file and save all the image links to that file.\n",
    "\n",
    "urls=Array.from(document.querySelectorAll('.rg_i')).map(el=> el.hasAttribute('data-src')?el.getAttribute('data-src'):''); \n",
    "window.open('data:text/csv;charset=utf-8,' + escape(urls.join('\\n')));\n",
    "\n",
    "urls=Array.from(document.querySelectorAll('.rg_i')).map(el=> el.hasAttribute('src')?el.getAttribute('src'):''); \n",
    "window.open('data:text/csv;charset=utf-8,' + urls.join('\\n'));"
   ]
  },
  {
   "cell_type": "code",
   "execution_count": null,
   "metadata": {},
   "outputs": [],
   "source": [
    "import requests\n",
    "import cv2\n",
    "import os\n",
    "\n",
    "from imutils import paths"
   ]
  },
  {
   "cell_type": "code",
   "execution_count": null,
   "metadata": {},
   "outputs": [],
   "source": [
    "if not os.path.exists('data/images'):\n",
    "    os.mkdir('data/images')\n",
    "image_path = 'data/images'"
   ]
  },
  {
   "cell_type": "code",
   "execution_count": null,
   "metadata": {},
   "outputs": [],
   "source": [
    "#read file\n",
    "with open('data/download') as file:\n",
    "    urls = open('data/download').read().strip().split('\\n')\n",
    "\n",
    "    \n",
    "total = 0\n",
    "for url in urls:\n",
    "    file_path = os.path.sep.join([image_path, '{}.jpg'.format(\n",
    "            str(total).zfill(6))]\n",
    "        )\n",
    "    try:\n",
    "        response = requests.get(url, timeout=60)        \n",
    "        with open(file_path, 'wb') as file:\n",
    "            file.write(response.content)\n",
    "\n",
    "        print('Downloaded {}'.format(file_path))\n",
    "        total += 1\n",
    "\n",
    "    except:\n",
    "        print('Error downloading file:{}'.format(file_path))"
   ]
  },
  {
   "cell_type": "code",
   "execution_count": null,
   "metadata": {},
   "outputs": [],
   "source": [
    "import io\n",
    "import base64\n",
    "\n",
    "#read file\n",
    "with open('data/data-base64') as file:\n",
    "    images = open('data/data-base64').read().strip().split('\\n')\n",
    "\n",
    "for img in images:\n",
    "    \n",
    "    file_path = os.path.sep.join([image_path, '{}.jpeg'.format(\n",
    "            str(total).zfill(6))]\n",
    "        )\n",
    "    try:\n",
    "        img = img[img.find('/9'):]\n",
    "        imgdata = base64.b64decode(img)\n",
    "        with open(file_path, 'wb') as file:\n",
    "            file.write(imgdata)\n",
    "\n",
    "        print('Saved {}'.format(file_path))\n",
    "        total += 1\n",
    "\n",
    "    except:\n",
    "        print('Error saving file:{}'.format(sys.exc_info()[0]))\n",
    "\n"
   ]
  },
  {
   "cell_type": "code",
   "execution_count": null,
   "metadata": {},
   "outputs": [],
   "source": [
    "print(\"Total {} images downloaded:\".format(total))"
   ]
  }
 ],
 "metadata": {
  "kernelspec": {
   "display_name": "python-examples-for-beginners",
   "language": "python",
   "name": "python-examples-for-beginners"
  },
  "language_info": {
   "codemirror_mode": {
    "name": "ipython",
    "version": 3
   },
   "file_extension": ".py",
   "mimetype": "text/x-python",
   "name": "python",
   "nbconvert_exporter": "python",
   "pygments_lexer": "ipython3",
   "version": "3.8.3"
  }
 },
 "nbformat": 4,
 "nbformat_minor": 4
}
