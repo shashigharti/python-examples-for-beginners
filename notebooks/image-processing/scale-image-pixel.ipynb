{
 "cells": [
  {
   "cell_type": "code",
   "execution_count": 1,
   "metadata": {},
   "outputs": [],
   "source": [
    "from numpy import asarray\n",
    "# load and show an image with Pillow\n",
    "from PIL import Image"
   ]
  },
  {
   "cell_type": "code",
   "execution_count": 2,
   "metadata": {},
   "outputs": [
    {
     "name": "stdout",
     "output_type": "stream",
     "text": [
      "None\n",
      "RGB\n",
      "(1280, 856)\n",
      "3287040\n",
      "Data type:uint8\n",
      "Min:0.000 Max:255.000\n",
      "float32\n",
      "Normalized to 0-1 range =>Min:0.000 Max:1.000\n",
      "Data type:float32\n"
     ]
    }
   ],
   "source": [
    "# load the image\n",
    "image1 = Image.open('data/sydney_bridge.png').convert('RGB')\n",
    "# summarize some details about the image\n",
    "print(image1.format)\n",
    "print(image1.mode)\n",
    "print(image1.size)\n",
    "# show the image\n",
    "\n",
    "pixels = asarray(image1)\n",
    "print(pixels.size)\n",
    "\n",
    "# confirm pixel range is from 0-255\n",
    "print('Data type:%s' % pixels.dtype)\n",
    "print('Min:%.3f Max:%.3f' % (pixels.min(), pixels.max()))\n",
    "\n",
    "# convert from integers to floats\n",
    "pixels = pixels.astype('float32')\n",
    "print(pixels.dtype)\n",
    "\n",
    "# normalize to range 0-1\n",
    "pixels /= 255.0\n",
    "print('Normalized to 0-1 range =>Min:%.3f Max:%.3f' % (pixels.min(), pixels.max()))\n",
    "print('Data type:%s' % pixels.dtype)"
   ]
  },
  {
   "cell_type": "code",
   "execution_count": 3,
   "metadata": {},
   "outputs": [
    {
     "name": "stdout",
     "output_type": "stream",
     "text": [
      "PNG\n",
      "RGBA\n",
      "(1280, 856)\n",
      "4382720\n",
      "Data type:uint8\n",
      "Min:0.000 Max:255.000\n",
      "float32\n",
      "Normalized to 0-1 range =>Min:0.000 Max:1.000\n",
      "Data type:float32\n"
     ]
    }
   ],
   "source": [
    "image = Image.open('data/sydney_bridge.png')\n",
    "# summarize some details about the image\n",
    "print(image.format)\n",
    "print(image.mode)\n",
    "print(image.size)\n",
    "# show the image\n",
    "\n",
    "pixels = asarray(image)\n",
    "print(pixels.size)\n",
    "\n",
    "# confirm pixel range is from 0-255\n",
    "print('Data type:%s' % pixels.dtype)\n",
    "print('Min:%.3f Max:%.3f' % (pixels.min(), pixels.max()))\n",
    "\n",
    "# convert from integers to floats\n",
    "pixels = pixels.astype('float32')\n",
    "print(pixels.dtype)\n",
    "\n",
    "# normalize to range 0-1\n",
    "pixels /= 255.0\n",
    "print('Normalized to 0-1 range =>Min:%.3f Max:%.3f' % (pixels.min(), pixels.max()))\n",
    "print('Data type:%s' % pixels.dtype)"
   ]
  },
  {
   "cell_type": "code",
   "execution_count": 4,
   "metadata": {},
   "outputs": [
    {
     "name": "stdout",
     "output_type": "stream",
     "text": [
      "<PIL.Image.Image image mode=L size=1280x856 at 0x7F2298665FA0>\n"
     ]
    }
   ],
   "source": [
    "# Split into 3 channels\n",
    "r, g, b = image1.split()\n",
    "\n",
    "print(r)"
   ]
  },
  {
   "cell_type": "code",
   "execution_count": 5,
   "metadata": {},
   "outputs": [
    {
     "name": "stdout",
     "output_type": "stream",
     "text": [
      "Mean: 184.501\n",
      "Min: 0.000, Max: 255.000\n",
      "Mean: -0.000\n",
      "Min: -184.501, Max: 70.499\n"
     ]
    }
   ],
   "source": [
    "# Centering pixels by substracting mean value with pixel value\n",
    "# load image\n",
    "image = Image.open('data/sydney_bridge.png')\n",
    "pixels = asarray(image)\n",
    "\n",
    "# convert from integers to floats\n",
    "pixels = pixels.astype('float32')\n",
    "\n",
    "# calculate global mean\n",
    "mean = pixels.mean()\n",
    "print('Mean: %.3f' % mean)\n",
    "print('Min: %.3f, Max: %.3f' % (pixels.min(), pixels.max()))\n",
    "\n",
    "# global centering of pixels\n",
    "pixels = pixels - mean\n",
    "\n",
    "# confirm it had the desired effect\n",
    "mean = pixels.mean()\n",
    "print('Mean: %.3f' % mean)\n",
    "print('Min: %.3f, Max: %.3f' % (pixels.min(), pixels.max()))"
   ]
  },
  {
   "cell_type": "code",
   "execution_count": 6,
   "metadata": {},
   "outputs": [
    {
     "name": "stdout",
     "output_type": "stream",
     "text": [
      "Means: [158.43480487 159.58662109 164.9829202 ]\n",
      "Mins: [0. 0. 0.], Maxs: [255. 255. 255.]\n",
      "Means: [-3.06365524e-07 -1.24562507e-06  4.88580506e-07]\n",
      "Mins: [-158.4348  -159.58662 -164.98293], Maxs: [96.56519  95.413376 90.01708 ]\n"
     ]
    }
   ],
   "source": [
    "# Local Centering\n",
    "# example of per-channel centering (subtract mean)\n",
    "from numpy import asarray\n",
    "from PIL import Image\n",
    "# load image\n",
    "image = Image.open('data/sydney_bridge.png').convert('RGB')\n",
    "pixels = asarray(image)\n",
    "# convert from integers to floats\n",
    "pixels = pixels.astype('float32')\n",
    "# calculate per-channel means and standard deviations\n",
    "means = pixels.mean(axis=(0,1), dtype='float64')\n",
    "print('Means: %s' % means)\n",
    "print('Mins: %s, Maxs: %s' % (pixels.min(axis=(0,1)), pixels.max(axis=(0,1))))\n",
    "# per-channel centering of pixels\n",
    "pixels -= means\n",
    "# confirm it had the desired effect\n",
    "means = pixels.mean(axis=(0,1), dtype='float64')\n",
    "print('Means: %s' % means)\n",
    "print('Mins: %s, Maxs: %s' % (pixels.min(axis=(0,1)), pixels.max(axis=(0,1))))"
   ]
  },
  {
   "cell_type": "code",
   "execution_count": 7,
   "metadata": {},
   "outputs": [
    {
     "name": "stdout",
     "output_type": "stream",
     "text": [
      "Mean: 161.001, Standard Deviation: 70.555\n",
      "Mean: 0.000, Standard Deviation: 1.000\n",
      "Mins: -2.2819245, Maxs: 1.3322718\n"
     ]
    }
   ],
   "source": [
    "# global standardization\n",
    "# example of global pixel standardization\n",
    "from numpy import asarray\n",
    "from PIL import Image\n",
    "# load image\n",
    "image = Image.open('data/sydney_bridge.png').convert('RGB')\n",
    "pixels = asarray(image)\n",
    "# convert from integers to floats\n",
    "pixels = pixels.astype('float32')\n",
    "# calculate global mean and standard deviation\n",
    "mean, std = pixels.mean(), pixels.std()\n",
    "print('Mean: %.3f, Standard Deviation: %.3f' % (mean, std))\n",
    "# global standardization of pixels\n",
    "pixels = (pixels - mean) / std\n",
    "# confirm it had the desired effect\n",
    "mean, std = pixels.mean(), pixels.std()\n",
    "print('Mean: %.3f, Standard Deviation: %.3f' % (mean, std))\n",
    "print('Mins: %s, Maxs: %s' % (pixels.min(), pixels.max()))"
   ]
  },
  {
   "cell_type": "code",
   "execution_count": null,
   "metadata": {},
   "outputs": [],
   "source": []
  }
 ],
 "metadata": {
  "kernelspec": {
   "display_name": "Python 3",
   "language": "python",
   "name": "python3"
  },
  "language_info": {
   "codemirror_mode": {
    "name": "ipython",
    "version": 3
   },
   "file_extension": ".py",
   "mimetype": "text/x-python",
   "name": "python",
   "nbconvert_exporter": "python",
   "pygments_lexer": "ipython3",
   "version": "3.8.5"
  }
 },
 "nbformat": 4,
 "nbformat_minor": 4
}
