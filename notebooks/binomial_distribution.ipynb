{
 "cells": [
  {
   "cell_type": "markdown",
   "metadata": {},
   "source": [
    "<h1>Exploring Binomial Distribution</h1>\n",
    "\n",
    "This notebook is based on the tutorial \"Binomial distributions | Probabilities of probabilities, part 1\" by 3blue1brown https://www.youtube.com/watch?v=8idr1WZ1A7Q\n",
    "\n",
    "I created this notebook to practice and play with the basic concept of binomial distribution by implementing the theoritical concept explained in the video. In this video, the author takes an example of positive and negative reviews from the customer and explains the underlying principles to finding the true success rate i.e maximizing the probability of a good experience. \n",
    "\n",
    "To simulate the data, we will use random number between 0 to 1. Any number less than 0.95 is a positive review and viceversa."
   ]
  },
  {
   "cell_type": "code",
   "execution_count": null,
   "metadata": {},
   "outputs": [],
   "source": [
    "### To include packages folder path\n",
    "import sys, os\n",
    "sys.path.insert(0, os.path.abspath('') + \"/../\")"
   ]
  },
  {
   "cell_type": "code",
   "execution_count": null,
   "metadata": {},
   "outputs": [],
   "source": [
    "%matplotlib inline\n",
    "import matplotlib\n",
    "from matplotlib import pyplot as plt\n",
    "from packages import binomial_distribution\n",
    "import numpy as np\n",
    "import math\n",
    "import functools"
   ]
  },
  {
   "cell_type": "code",
   "execution_count": null,
   "metadata": {},
   "outputs": [],
   "source": [
    "success_rate = .95 #Assumption \n",
    "\n",
    "\n",
    "number_of_observations = 10000\n",
    "reviews_per_observation = 50\n",
    "positive_reviews = 48\n",
    "ob_interval = 1000\n",
    "headers = [\"No. of Observations\", \"Total Reviews Per Observation\", \"Positive Reviews\", \"Percentage\"]\n",
    "metrics_rows = []\n",
    "observations = []"
   ]
  },
  {
   "cell_type": "code",
   "execution_count": null,
   "metadata": {},
   "outputs": [],
   "source": [
    "# Run multiple experiments(observations)\n",
    "for observation in range(100, number_of_observations, ob_interval):\n",
    "    events = binomial_distribution.generate_events(observation, reviews_per_observation, success_rate) \n",
    "    metrics = binomial_distribution.get_metrics(events, reviews_per_observation, positive_reviews)\n",
    "    metrics_rows.append(metrics)\n",
    "    observations.append(events)"
   ]
  },
  {
   "cell_type": "code",
   "execution_count": null,
   "metadata": {},
   "outputs": [],
   "source": [
    "table_title = 'Probability of getting %d positive reviews out of %d'%(positive_reviews, reviews_per_observation)\n",
    "print(\"{:^100}\".format(table_title))\n",
    "print(\"{:^100}\".format(\"-\" * 114))\n",
    "binomial_distribution.display_table((headers, metrics_rows))"
   ]
  },
  {
   "cell_type": "code",
   "execution_count": null,
   "metadata": {},
   "outputs": [],
   "source": [
    "print(\"{:^100}\".format(table_title))\n",
    "print(\"{:^100}\".format(\"-\" * 114))\n",
    "binomial_distribution.plot_hist(observations, reviews_per_observation, positive_reviews)    "
   ]
  },
  {
   "cell_type": "markdown",
   "metadata": {},
   "source": [
    "From the repeated experiments, we see that the probability of getting 48 reviews out of 50 is around 26%. For clarity, the bar that represents 48 reviews is colored as 'red'. Now lets calculate the probability using the formula and see if this result matches to what we get from the formula."
   ]
  },
  {
   "cell_type": "code",
   "execution_count": null,
   "metadata": {},
   "outputs": [],
   "source": [
    "# Calculate probability using formula and compare it with above result.\n",
    "from math import factorial\n",
    "\n",
    "p = success_rate\n",
    "q = 1 - p\n",
    "x = positive_reviews\n",
    "n = reviews_per_observation\n",
    "\n",
    "prob = (factorial(n)/(factorial(n - x) * factorial(x))) * (p**x) * (q**(n-x))\n",
    "print('Probability of getting {} positive reviews out of {}: {:.2%}'.format(positive_reviews, reviews_per_observation, prob))"
   ]
  },
  {
   "cell_type": "markdown",
   "metadata": {},
   "source": [
    "Using formulae we got 26.11% probability and it matches with what we had derived from above experiments."
   ]
  }
 ],
 "metadata": {
  "kernelspec": {
   "display_name": "Python 3",
   "language": "python",
   "name": "python3"
  },
  "language_info": {
   "codemirror_mode": {
    "name": "ipython",
    "version": 3
   },
   "file_extension": ".py",
   "mimetype": "text/x-python",
   "name": "python",
   "nbconvert_exporter": "python",
   "pygments_lexer": "ipython3",
   "version": "3.7.6"
  }
 },
 "nbformat": 4,
 "nbformat_minor": 4
}
