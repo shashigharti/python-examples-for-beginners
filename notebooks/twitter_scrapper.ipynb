{
 "cells": [
  {
   "cell_type": "markdown",
   "metadata": {},
   "source": [
    "<h3>Twitter Scrapper</h3>\n",
    "---------------------------------------------------------------------------------------------------------------------------------------------------------------------------------------------------------------\n",
    "\n",
    "I decided to write the twitter scrape funtionality from scratch inorder to practice python coding as well as delve in to the depth of the scrapping process. I took reference of code and used many code snippets from these libraries and online repos.\n",
    "\n",
    "1. https://pypi.org/project/twitterscraper/0.2.7/\n",
    "2. https://github.com/egbertbouman/tweet-downloader\n",
    "3. https://github.com/stanfordpython/final-projects-win20/"
   ]
  },
  {
   "cell_type": "code",
   "execution_count": 1,
   "metadata": {},
   "outputs": [],
   "source": [
    "### To include packages folder path\n",
    "import sys, os\n",
    "sys.path.insert(0, os.path.abspath('') + \"/../\")"
   ]
  },
  {
   "cell_type": "code",
   "execution_count": 2,
   "metadata": {},
   "outputs": [],
   "source": [
    "from packages.twitter_scrapper import TwitterScrapper\n",
    "from packages.scrapper import helper\n",
    "import pandas as pd\n",
    "\n",
    "from datetime import datetime"
   ]
  },
  {
   "cell_type": "code",
   "execution_count": 3,
   "metadata": {},
   "outputs": [],
   "source": [
    "tscrapper = TwitterScrapper()\n",
    "keywords = [\"machine learning researcher remote\"]\n",
    "tweets = tscrapper.scrape(keywords)"
   ]
  },
  {
   "cell_type": "code",
   "execution_count": 4,
   "metadata": {},
   "outputs": [
    {
     "name": "stdout",
     "output_type": "stream",
     "text": [
      "Name:Artificial Intelligence Works \n",
      " Screen Name: AIWorksBot \n",
      " Tweet Text: We are currently seeking Machine Learning Software Engineers/Researchers at Galois.\n",
      "\n",
      "Remote Machine Learning Engineer/Researcher, with a competitive salary\n",
      "\n",
      "#remotework #remotejobs #machinelearninghttp://zpr.io/t4QyV  \n",
      " Urls:http://zpr.io/t4QyV \n",
      " Timestamp:2020-05-14 21:08:02\n",
      "---------------------------------------------------------------------------------------------------------------------------------------------------------------------------------------------------------------------------------\n",
      "Name:Functional Works \n",
      " Screen Name: Functionalworks \n",
      " Tweet Text: We are currently seeking Machine Learning Software Engineers/Researchers at Galois.\n",
      "\n",
      "Remote Machine Learning Engineer/Researcher, with a competitive salary\n",
      "\n",
      "#remotework #remotejobs #machinelearninghttp://zpr.io/tVCw6  \n",
      " Urls:http://zpr.io/tVCw6 \n",
      " Timestamp:2020-05-24 02:06:00\n",
      "---------------------------------------------------------------------------------------------------------------------------------------------------------------------------------------------------------------------------------\n"
     ]
    }
   ],
   "source": [
    "headers = ['Name', 'Screen Name', 'Text', 'Urls', 'Time']\n",
    "\n",
    "for tweet in tweets:\n",
    "    print(\"Name:{} \\n Screen Name: {} \\n Tweet Text: {} \\n Urls:{} \\n Timestamp:{}\".format(tweet['name'], tweet['screen_name'], tweet['tweet_text'], ', '.join(tweet['urls']), datetime.fromtimestamp(tweet['timestamp'])))\n",
    "    print(\"-\" * 225)\n"
   ]
  }
 ],
 "metadata": {
  "kernelspec": {
   "display_name": "Python 3",
   "language": "python",
   "name": "python3"
  },
  "language_info": {
   "codemirror_mode": {
    "name": "ipython",
    "version": 3
   },
   "file_extension": ".py",
   "mimetype": "text/x-python",
   "name": "python",
   "nbconvert_exporter": "python",
   "pygments_lexer": "ipython3",
   "version": "3.8.1"
  }
 },
 "nbformat": 4,
 "nbformat_minor": 4
}
